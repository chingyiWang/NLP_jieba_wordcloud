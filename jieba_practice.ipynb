{
 "cells": [
  {
   "cell_type": "markdown",
   "metadata": {},
   "source": [
    "## 斷詞jieba練習 ##\n",
    "* 三種模式\n",
    "* 更改詞庫\n",
    "* 自定詞庫\n",
    "* 停用詞庫"
   ]
  },
  {
   "cell_type": "code",
   "execution_count": 1,
   "metadata": {},
   "outputs": [],
   "source": [
    "import jieba"
   ]
  },
  {
   "cell_type": "code",
   "execution_count": 16,
   "metadata": {},
   "outputs": [
    {
     "name": "stdout",
     "output_type": "stream",
     "text": [
      "C:\\Users\\ching\\anaconda3\\envs\\ML_\\lib\\site-packages\\jieba\\__init__.py\n"
     ]
    }
   ],
   "source": [
    "print(jieba.__file__)"
   ]
  },
  {
   "cell_type": "code",
   "execution_count": 19,
   "metadata": {},
   "outputs": [
    {
     "name": "stdout",
     "output_type": "stream",
     "text": [
      "精確模式:我|今天|要|去|松山機場|出差\n"
     ]
    }
   ],
   "source": [
    "#精確模式，適合作為文件分析\n",
    "#jieba.cut(sentence, cut_all = False)\n",
    "sentence = '上市櫃9月營收今年最佳 143家營收創高'\n",
    "breakword = jieba.cut(sentence, cut_all = False)\n",
    "print('精確模式:'+'|'.join(breakword))"
   ]
  },
  {
   "cell_type": "code",
   "execution_count": 14,
   "metadata": {},
   "outputs": [
    {
     "name": "stdout",
     "output_type": "stream",
     "text": [
      "全文模式:上市|櫃|9|月|營|收|今年|最佳||143|家|營|收|創|高\n"
     ]
    }
   ],
   "source": [
    "#全文模式，將所有可以成詞的字詞都掃描出來，速度較快\n",
    "#jieba.cut(sentence, cut_all = True)\n",
    "sentence = '上市櫃9月營收今年最佳 143家營收創高'\n",
    "breakword = jieba.cut(sentence, cut_all = True)\n",
    "print('全文模式:'+'|'.join(breakword))"
   ]
  },
  {
   "cell_type": "code",
   "execution_count": 15,
   "metadata": {},
   "outputs": [
    {
     "name": "stdout",
     "output_type": "stream",
     "text": [
      "全文模式:上市|櫃|9|月|營收|今年|最佳| |143|家營收|創高\n"
     ]
    }
   ],
   "source": [
    "#搜尋引擎模式，在精確模式基礎，對長詞再次切分，適合用在搜尋引擎斷詞\n",
    "#jieba.cut_for_search(sentence)\n",
    "sentence = '上市櫃9月營收今年最佳 143家營收創高'\n",
    "breakword = jieba.cut_for_search(sentence)\n",
    "print('全文模式:'+'|'.join(breakword))"
   ]
  },
  {
   "cell_type": "code",
   "execution_count": 17,
   "metadata": {},
   "outputs": [],
   "source": [
    "#更改詞庫\n",
    "jieba.set_dictionary('dict.txt.big.txt')"
   ]
  },
  {
   "cell_type": "code",
   "execution_count": 18,
   "metadata": {},
   "outputs": [
    {
     "name": "stderr",
     "output_type": "stream",
     "text": [
      "Building prefix dict from C:\\Users\\ching\\notbooks\\NLP_jieba_news\\dict.txt.big.txt ...\n",
      "Dumping model to file cache C:\\Users\\ching\\AppData\\Local\\Temp\\jieba.u085729b01356fdf6c9eb27efd58d0149.cache\n",
      "Loading model cost 1.245 seconds.\n",
      "Prefix dict has been built succesfully.\n"
     ]
    },
    {
     "name": "stdout",
     "output_type": "stream",
     "text": [
      "精確模式:上市|櫃|9|月|營收|今年|最佳| |143|家營收|創高\n"
     ]
    }
   ],
   "source": [
    "sentence = '上市櫃9月營收今年最佳 143家營收創高'\n",
    "breakword = jieba.cut(sentence, cut_all = False)\n",
    "print('精確模式:'+'|'.join(breakword))"
   ]
  },
  {
   "cell_type": "code",
   "execution_count": 23,
   "metadata": {},
   "outputs": [
    {
     "name": "stdout",
     "output_type": "stream",
     "text": [
      "精確模式:攜手|外國|YouTuber|宣傳|奏效|，|魏德聖|電影|計畫|《|臺灣|三部曲|》|64|天募|資破|億|！\n"
     ]
    }
   ],
   "source": [
    "#自定詞庫\n",
    "#建立txt檔案，將詞放入，再載入jieba即可\n",
    "#jieba.load_userdict('movie_user_dict_.txt')\n",
    "sentence = '攜手外國YouTuber宣傳奏效，魏德聖電影計畫《臺灣三部曲》64天募資破億！'\n",
    "breakword = jieba.cut(sentence, cut_all = False)\n",
    "print('精確模式:'+'|'.join(breakword))"
   ]
  },
  {
   "cell_type": "code",
   "execution_count": 26,
   "metadata": {},
   "outputs": [],
   "source": [
    "#載入jieba\n",
    "jieba.load_userdict('movie_user_dict_.txt')"
   ]
  },
  {
   "cell_type": "code",
   "execution_count": 27,
   "metadata": {},
   "outputs": [
    {
     "name": "stdout",
     "output_type": "stream",
     "text": [
      "精確模式:攜手|外國|YouTuber|宣傳|奏效|，|魏德聖|電影|計畫|《|臺灣三部曲|》|64|天|募資|破億|！\n"
     ]
    }
   ],
   "source": [
    "#成功斷詞\n",
    "sentence = '攜手外國YouTuber宣傳奏效，魏德聖電影計畫《臺灣三部曲》64天募資破億！'\n",
    "breakword = jieba.cut(sentence, cut_all = False)\n",
    "print('精確模式:'+'|'.join(breakword))"
   ]
  },
  {
   "cell_type": "code",
   "execution_count": 28,
   "metadata": {},
   "outputs": [],
   "source": [
    "#加入停用詞\n",
    "with open('stopWord.txt', 'r', encoding='utf-8-sig') as f :\n",
    "    stops = f.read().split('\\n')"
   ]
  },
  {
   "cell_type": "code",
   "execution_count": 32,
   "metadata": {},
   "outputs": [
    {
     "name": "stdout",
     "output_type": "stream",
     "text": [
      "攜手|外國|YouTuber|宣傳|奏效|魏德聖|電影|計畫|《|臺灣三部曲|》|64|天|募資|破億\n"
     ]
    }
   ],
   "source": [
    "sentence = '攜手外國YouTuber宣傳奏效，魏德聖電影計畫《臺灣三部曲》64天募資破億！'\n",
    "breakword = jieba.cut(sentence, cut_all = False)\n",
    "words = []\n",
    "\n",
    "for word in breakword:\n",
    "    if word not in stops:\n",
    "        words.append(word)\n",
    "print('|'.join(words))"
   ]
  }
 ],
 "metadata": {
  "kernelspec": {
   "display_name": "Python 3",
   "language": "python",
   "name": "python3"
  },
  "language_info": {
   "codemirror_mode": {
    "name": "ipython",
    "version": 3
   },
   "file_extension": ".py",
   "mimetype": "text/x-python",
   "name": "python",
   "nbconvert_exporter": "python",
   "pygments_lexer": "ipython3",
   "version": "3.7.7"
  }
 },
 "nbformat": 4,
 "nbformat_minor": 4
}
